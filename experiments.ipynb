{
 "cells": [
  {
   "cell_type": "code",
   "execution_count": 1,
   "metadata": {},
   "outputs": [],
   "source": [
    "import numpy as np "
   ]
  },
  {
   "cell_type": "markdown",
   "metadata": {},
   "source": [
    "**Computation of energy of method(2)**\n",
    "Let $E$ be the energy, $E = k \\frac{d^2}{4}$, we need $d/(2\\sigma)\\geq a_1$ to achieve our desired error pr $\\alpha$. \n",
    "$Q(a_1)=\\alpha / k$ so $a_1 = quantile(1-\\alpha/k)$ \n",
    "Then $d = 2\\sigma a_1$ and $E=k\\sigma^2a_1^2$. "
   ]
  },
  {
   "cell_type": "code",
   "execution_count": 3,
   "metadata": {},
   "outputs": [
    {
     "name": "stdout",
     "output_type": "stream",
     "text": [
      "10085915950175.102\n"
     ]
    }
   ],
   "source": [
    "alpha = 10**(-3)\n",
    "k = 240 \n",
    "a_1 = np.quantile(np.linspace(0,41000),1-alpha/k)\n",
    "\n",
    "sigma = 5 \n",
    "E = k * (sigma**2) * (a_1**2)\n",
    "print(E) \n"
   ]
  },
  {
   "cell_type": "code",
   "execution_count": null,
   "metadata": {},
   "outputs": [],
   "source": []
  }
 ],
 "metadata": {
  "kernelspec": {
   "display_name": "Python 3",
   "language": "python",
   "name": "python3"
  },
  "language_info": {
   "codemirror_mode": {
    "name": "ipython",
    "version": 3
   },
   "file_extension": ".py",
   "mimetype": "text/x-python",
   "name": "python",
   "nbconvert_exporter": "python",
   "pygments_lexer": "ipython3",
   "version": "3.11.7"
  }
 },
 "nbformat": 4,
 "nbformat_minor": 2
}
